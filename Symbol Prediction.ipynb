{
 "cells": [
  {
   "cell_type": "code",
   "execution_count": 1,
   "metadata": {},
   "outputs": [],
   "source": [
    "# Including required python libraries used in this project\n",
    "import pandas as pd\n",
    "import numpy as np\n",
    "import matplotlib.pyplot as plt\n",
    "\n",
    "from keras.models import Sequential\n",
    "from keras.layers import Dense, Input, Dropout, SimpleRNN,LSTM, Activation\n",
    "from keras.utils import np_utils\n",
    "\n",
    "import emoji"
   ]
  },
  {
   "cell_type": "code",
   "execution_count": 2,
   "metadata": {},
   "outputs": [],
   "source": [
    "# getting the train and test data\n",
    "train_data = pd.read_csv('train_emoji.csv',header=None)\n",
    "test_data = pd.read_csv('test_emoji.csv',header=None)"
   ]
  },
  {
   "cell_type": "code",
   "execution_count": 3,
   "metadata": {},
   "outputs": [
    {
     "data": {
      "text/html": [
       "<div>\n",
       "<style scoped>\n",
       "    .dataframe tbody tr th:only-of-type {\n",
       "        vertical-align: middle;\n",
       "    }\n",
       "\n",
       "    .dataframe tbody tr th {\n",
       "        vertical-align: top;\n",
       "    }\n",
       "\n",
       "    .dataframe thead th {\n",
       "        text-align: right;\n",
       "    }\n",
       "</style>\n",
       "<table border=\"1\" class=\"dataframe\">\n",
       "  <thead>\n",
       "    <tr style=\"text-align: right;\">\n",
       "      <th></th>\n",
       "      <th>0</th>\n",
       "      <th>1</th>\n",
       "      <th>2</th>\n",
       "      <th>3</th>\n",
       "    </tr>\n",
       "  </thead>\n",
       "  <tbody>\n",
       "    <tr>\n",
       "      <th>0</th>\n",
       "      <td>never talk to me again</td>\n",
       "      <td>3</td>\n",
       "      <td>NaN</td>\n",
       "      <td>NaN</td>\n",
       "    </tr>\n",
       "    <tr>\n",
       "      <th>1</th>\n",
       "      <td>I am proud of your achievements</td>\n",
       "      <td>2</td>\n",
       "      <td>NaN</td>\n",
       "      <td>NaN</td>\n",
       "    </tr>\n",
       "    <tr>\n",
       "      <th>2</th>\n",
       "      <td>It is the worst day in my life</td>\n",
       "      <td>3</td>\n",
       "      <td>NaN</td>\n",
       "      <td>NaN</td>\n",
       "    </tr>\n",
       "    <tr>\n",
       "      <th>3</th>\n",
       "      <td>Miss you so much</td>\n",
       "      <td>0</td>\n",
       "      <td>NaN</td>\n",
       "      <td>[0]</td>\n",
       "    </tr>\n",
       "    <tr>\n",
       "      <th>4</th>\n",
       "      <td>food is life</td>\n",
       "      <td>4</td>\n",
       "      <td>NaN</td>\n",
       "      <td>NaN</td>\n",
       "    </tr>\n",
       "  </tbody>\n",
       "</table>\n",
       "</div>"
      ],
      "text/plain": [
       "                                 0  1   2     3\n",
       "0           never talk to me again  3 NaN   NaN\n",
       "1  I am proud of your achievements  2 NaN   NaN\n",
       "2   It is the worst day in my life  3 NaN   NaN\n",
       "3                 Miss you so much  0 NaN   [0]\n",
       "4                     food is life  4 NaN   NaN"
      ]
     },
     "execution_count": 3,
     "metadata": {},
     "output_type": "execute_result"
    }
   ],
   "source": [
    "# Displaying top 5 rows\n",
    "train_data.head()"
   ]
  },
  {
   "cell_type": "code",
   "execution_count": 5,
   "metadata": {},
   "outputs": [
    {
     "data": {
      "text/html": [
       "<div>\n",
       "<style scoped>\n",
       "    .dataframe tbody tr th:only-of-type {\n",
       "        vertical-align: middle;\n",
       "    }\n",
       "\n",
       "    .dataframe tbody tr th {\n",
       "        vertical-align: top;\n",
       "    }\n",
       "\n",
       "    .dataframe thead th {\n",
       "        text-align: right;\n",
       "    }\n",
       "</style>\n",
       "<table border=\"1\" class=\"dataframe\">\n",
       "  <thead>\n",
       "    <tr style=\"text-align: right;\">\n",
       "      <th></th>\n",
       "      <th>0</th>\n",
       "      <th>1</th>\n",
       "    </tr>\n",
       "  </thead>\n",
       "  <tbody>\n",
       "    <tr>\n",
       "      <th>0</th>\n",
       "      <td>I want to eat\\t</td>\n",
       "      <td>4</td>\n",
       "    </tr>\n",
       "    <tr>\n",
       "      <th>1</th>\n",
       "      <td>he did not answer\\t</td>\n",
       "      <td>3</td>\n",
       "    </tr>\n",
       "    <tr>\n",
       "      <th>2</th>\n",
       "      <td>he got a raise\\t</td>\n",
       "      <td>2</td>\n",
       "    </tr>\n",
       "    <tr>\n",
       "      <th>3</th>\n",
       "      <td>she got me a present\\t</td>\n",
       "      <td>0</td>\n",
       "    </tr>\n",
       "    <tr>\n",
       "      <th>4</th>\n",
       "      <td>ha ha ha it was so funny\\t</td>\n",
       "      <td>2</td>\n",
       "    </tr>\n",
       "  </tbody>\n",
       "</table>\n",
       "</div>"
      ],
      "text/plain": [
       "                            0  1\n",
       "0             I want to eat\\t  4\n",
       "1         he did not answer\\t  3\n",
       "2            he got a raise\\t  2\n",
       "3      she got me a present\\t  0\n",
       "4  ha ha ha it was so funny\\t  2"
      ]
     },
     "execution_count": 5,
     "metadata": {},
     "output_type": "execute_result"
    }
   ],
   "source": [
    "# Checking data by showing first 5 rows of the test data\n",
    "test_data.head()"
   ]
  },
  {
   "cell_type": "code",
   "execution_count": 6,
   "metadata": {},
   "outputs": [],
   "source": [
    "#A dictionary for emoji's\n",
    "dict_emojis = { 0 : \":heart:\", 1 : \":baseball:\", 2 : \":smile:\", 3 : \":disappointed:\", 4 : \":fork_and_knife:\",5 : \":angry:\"}"
   ]
  },
  {
   "cell_type": "code",
   "execution_count": 7,
   "metadata": {},
   "outputs": [
    {
     "name": "stdout",
     "output_type": "stream",
     "text": [
      "0 ❤️\n",
      "1 ⚾\n",
      "2 😄\n",
      "3 😞\n",
      "4 🍴\n",
      "5 😠\n"
     ]
    }
   ],
   "source": [
    "#printing the emojis from the dictionary using emojize\n",
    "for emoj in dict_emojis.keys():\n",
    "    print (emoj,end=\" \")\n",
    "    print (emoji.emojize(dict_emojis[emoj], use_aliases=True))"
   ]
  },
  {
   "cell_type": "code",
   "execution_count": 9,
   "metadata": {},
   "outputs": [
    {
     "name": "stdout",
     "output_type": "stream",
     "text": [
      "(157,) (157,) (68,) (68,)\n",
      "-------------------------\n",
      "It is the worst day in my life 3\n"
     ]
    }
   ],
   "source": [
    "#Splitting the input and labels\n",
    "X_train = train_data[0]\n",
    "Y_train = train_data[1]\n",
    "\n",
    "X_test = test_data[0]\n",
    "Y_test = test_data[1]\n",
    "\n",
    "print (X_train.shape, Y_train.shape, X_test.shape, Y_test.shape)\n",
    "print (\"-------------------------\")\n",
    "print (X_train[2],Y_train[2])"
   ]
  },
  {
   "cell_type": "code",
   "execution_count": 11,
   "metadata": {},
   "outputs": [
    {
     "name": "stderr",
     "output_type": "stream",
     "text": [
      "C:\\Users\\nsrag\\AppData\\Local\\Temp/ipykernel_5720/716890783.py:3: SettingWithCopyWarning: \n",
      "A value is trying to be set on a copy of a slice from a DataFrame\n",
      "\n",
      "See the caveats in the documentation: https://pandas.pydata.org/pandas-docs/stable/user_guide/indexing.html#returning-a-view-versus-a-copy\n",
      "  X_train[sentence] = X_train[sentence].split()\n",
      "C:\\Users\\nsrag\\AppData\\Local\\Temp/ipykernel_5720/716890783.py:7: SettingWithCopyWarning: \n",
      "A value is trying to be set on a copy of a slice from a DataFrame\n",
      "\n",
      "See the caveats in the documentation: https://pandas.pydata.org/pandas-docs/stable/user_guide/indexing.html#returning-a-view-versus-a-copy\n",
      "  X_test[sentence] = X_test[sentence].split()\n"
     ]
    }
   ],
   "source": [
    "# Splitting the train data from sentences to words\n",
    "for sentence in range(X_train.shape[0]):\n",
    "    X_train[sentence] = X_train[sentence].split()\n",
    "\n",
    "# Splitting the test data from sentences to words\n",
    "for sentence in range(X_test.shape[0]):\n",
    "    X_test[sentence] = X_test[sentence].split()\n",
    "    \n",
    "#Lables in to categorical form\n",
    "Y_train = np_utils.to_categorical(Y_train)"
   ]
  },
  {
   "cell_type": "code",
   "execution_count": 13,
   "metadata": {},
   "outputs": [
    {
     "name": "stdout",
     "output_type": "stream",
     "text": [
      "['It', 'is', 'the', 'worst', 'day', 'in', 'my', 'life'] [0. 0. 0. 1. 0. 0.]\n"
     ]
    }
   ],
   "source": [
    "#Printing the label and data after the conversion\n",
    "print (X_train[2],Y_train[2])"
   ]
  },
  {
   "cell_type": "code",
   "execution_count": 14,
   "metadata": {},
   "outputs": [
    {
     "data": {
      "text/plain": [
       "(array([ 1,  2,  3,  4,  5,  6,  7,  8,  9, 10]),\n",
       " array([ 4,  7, 30, 42, 29, 23, 12,  5,  1,  4], dtype=int64))"
      ]
     },
     "execution_count": 14,
     "metadata": {},
     "output_type": "execute_result"
    }
   ],
   "source": [
    "#checking the max length in the training data\n",
    "np.unique(np.array([len(i) for i in X_train]) , return_counts=True)"
   ]
  },
  {
   "cell_type": "code",
   "execution_count": 15,
   "metadata": {},
   "outputs": [
    {
     "data": {
      "text/plain": [
       "(array([2, 3, 4, 5, 6, 7, 8]),\n",
       " array([ 5, 13, 17, 23,  3,  5,  2], dtype=int64))"
      ]
     },
     "execution_count": 15,
     "metadata": {},
     "output_type": "execute_result"
    }
   ],
   "source": [
    "#checking the max length in the test data\n",
    "np.unique(np.array([len(i) for i in X_test]) , return_counts=True)"
   ]
  },
  {
   "cell_type": "code",
   "execution_count": 16,
   "metadata": {},
   "outputs": [],
   "source": [
    "# Creating  embeddings dictionary with key = word and value = list of words in glove vector\n",
    "embeddings_index = {}\n",
    "\n",
    "f = open('glove.6B.50d.txt',encoding=\"utf8\")\n",
    "for line in f:\n",
    "    values = line.split()\n",
    "    word = values[0]\n",
    "    coefs = np.asarray(values[1:], dtype='float32')\n",
    "    embeddings_index[word] = coefs\n",
    "f.close()"
   ]
  },
  {
   "cell_type": "code",
   "execution_count": 17,
   "metadata": {},
   "outputs": [
    {
     "data": {
      "text/plain": [
       "(50,)"
      ]
     },
     "execution_count": 17,
     "metadata": {},
     "output_type": "execute_result"
    }
   ],
   "source": [
    "# Checking length of a particular word\n",
    "embeddings_index[\"i\"].shape"
   ]
  },
  {
   "cell_type": "code",
   "execution_count": 18,
   "metadata": {},
   "outputs": [
    {
     "data": {
      "text/plain": [
       "0.24696819484233856"
      ]
     },
     "execution_count": 18,
     "metadata": {},
     "output_type": "execute_result"
    }
   ],
   "source": [
    "from scipy import spatial\n",
    "# Checking cosine similarity of words india and paris\n",
    "1 - spatial.distance.cosine(embeddings_index[\"india\"], embeddings_index[\"paris\"])"
   ]
  },
  {
   "cell_type": "code",
   "execution_count": 19,
   "metadata": {},
   "outputs": [
    {
     "data": {
      "text/plain": [
       "0.802532970905304"
      ]
     },
     "execution_count": 19,
     "metadata": {},
     "output_type": "execute_result"
    }
   ],
   "source": [
    "#Similarity of words france and paris\n",
    "1-spatial.distance.cosine(embeddings_index[\"france\"], embeddings_index[\"paris\"])"
   ]
  },
  {
   "cell_type": "code",
   "execution_count": 20,
   "metadata": {},
   "outputs": [],
   "source": [
    "# Filling the embedding matrix\n",
    "embedding_matrix_train = np.zeros((X_train.shape[0], 10, 50))\n",
    "embedding_matrix_test = np.zeros((X_test.shape[0], 10, 50))\n",
    "\n",
    "for i in range(X_train.shape[0]):\n",
    "    for j in range(len(X_train[i])):\n",
    "        embedding_matrix_train[i][j] = embeddings_index[X_train[i][j].lower()]\n",
    "        \n",
    "for ix in range(X_test.shape[0]):\n",
    "    for ij in range(len(X_test[ix])):\n",
    "        embedding_matrix_test[ix][ij] = embeddings_index[X_test[ix][ij].lower()]        "
   ]
  },
  {
   "cell_type": "code",
   "execution_count": 21,
   "metadata": {},
   "outputs": [
    {
     "name": "stdout",
     "output_type": "stream",
     "text": [
      "(157, 10, 50) (68, 10, 50)\n"
     ]
    }
   ],
   "source": [
    "print (embedding_matrix_train.shape, embedding_matrix_test.shape)"
   ]
  },
  {
   "cell_type": "markdown",
   "metadata": {},
   "source": [
    "# Training model"
   ]
  },
  {
   "cell_type": "markdown",
   "metadata": {},
   "source": [
    "## - Using RNN"
   ]
  },
  {
   "cell_type": "code",
   "execution_count": 35,
   "metadata": {},
   "outputs": [],
   "source": [
    "def RNN_model(loss_function,activation_func,drop_out_rate):\n",
    "    # A simple RNN network to classify the emoji class from an input Sentence\n",
    "\n",
    "    model = Sequential()\n",
    "    model.add(SimpleRNN(64, input_shape=(10,50), return_sequences=True))\n",
    "    model.add(Dropout(drop_out_rate))\n",
    "    model.add(SimpleRNN(64, return_sequences=False))\n",
    "    model.add(Dense(6))\n",
    "    model.add(Activation(activation_func))\n",
    "\n",
    "    model.summary()\n",
    "    \n",
    "    # Setting Loss and Optimiser for the model\n",
    "    model.compile(loss=loss_function, optimizer='adam', metrics=['accuracy'])\n",
    "    \n",
    "    # Training of the model and Setting hyperparameters for the model\n",
    "    hist = model.fit(embedding_matrix_train,Y_train,epochs = 50, batch_size=32,shuffle=True)\n",
    "    return model"
   ]
  },
  {
   "cell_type": "code",
   "execution_count": 36,
   "metadata": {},
   "outputs": [],
   "source": [
    "def get_accuracy(model,embedding_matrix_test,Y_test):\n",
    "    # Prediction of trained model\n",
    "    pred_lstm=model.predict(embedding_matrix_test)\n",
    "    classes_lstm=np.argmax(pred_lstm,axis=1)\n",
    "    # Calculating accuracy / score  of the model\n",
    "    return float(sum(classes_lstm==Y_test))/embedding_matrix_test.shape[0],classes_lstm"
   ]
  },
  {
   "cell_type": "code",
   "execution_count": 37,
   "metadata": {},
   "outputs": [
    {
     "name": "stdout",
     "output_type": "stream",
     "text": [
      "Model: \"sequential_6\"\n",
      "_________________________________________________________________\n",
      " Layer (type)                Output Shape              Param #   \n",
      "=================================================================\n",
      " simple_rnn_12 (SimpleRNN)   (None, 10, 64)            7360      \n",
      "                                                                 \n",
      " dropout_6 (Dropout)         (None, 10, 64)            0         \n",
      "                                                                 \n",
      " simple_rnn_13 (SimpleRNN)   (None, 64)                8256      \n",
      "                                                                 \n",
      " dense_6 (Dense)             (None, 6)                 390       \n",
      "                                                                 \n",
      " activation_6 (Activation)   (None, 6)                 0         \n",
      "                                                                 \n",
      "=================================================================\n",
      "Total params: 16,006\n",
      "Trainable params: 16,006\n",
      "Non-trainable params: 0\n",
      "_________________________________________________________________\n",
      "Epoch 1/50\n",
      "5/5 [==============================] - 1s 3ms/step - loss: 0.1436 - accuracy: 0.1783\n",
      "Epoch 2/50\n",
      "5/5 [==============================] - 0s 3ms/step - loss: 0.1284 - accuracy: 0.3121\n",
      "Epoch 3/50\n",
      "5/5 [==============================] - 0s 3ms/step - loss: 0.1167 - accuracy: 0.4140\n",
      "Epoch 4/50\n",
      "5/5 [==============================] - 0s 2ms/step - loss: 0.1162 - accuracy: 0.4395\n",
      "Epoch 5/50\n",
      "5/5 [==============================] - 0s 3ms/step - loss: 0.1056 - accuracy: 0.5414\n",
      "Epoch 6/50\n",
      "5/5 [==============================] - 0s 3ms/step - loss: 0.0936 - accuracy: 0.5796\n",
      "Epoch 7/50\n",
      "5/5 [==============================] - 0s 3ms/step - loss: 0.0873 - accuracy: 0.6561\n",
      "Epoch 8/50\n",
      "5/5 [==============================] - 0s 3ms/step - loss: 0.0798 - accuracy: 0.6624\n",
      "Epoch 9/50\n",
      "5/5 [==============================] - 0s 3ms/step - loss: 0.0718 - accuracy: 0.7197\n",
      "Epoch 10/50\n",
      "5/5 [==============================] - 0s 2ms/step - loss: 0.0646 - accuracy: 0.7771\n",
      "Epoch 11/50\n",
      "5/5 [==============================] - 0s 3ms/step - loss: 0.0576 - accuracy: 0.7771\n",
      "Epoch 12/50\n",
      "5/5 [==============================] - 0s 3ms/step - loss: 0.0525 - accuracy: 0.8025\n",
      "Epoch 13/50\n",
      "5/5 [==============================] - 0s 3ms/step - loss: 0.0468 - accuracy: 0.8280\n",
      "Epoch 14/50\n",
      "5/5 [==============================] - 0s 3ms/step - loss: 0.0407 - accuracy: 0.8790\n",
      "Epoch 15/50\n",
      "5/5 [==============================] - 0s 3ms/step - loss: 0.0350 - accuracy: 0.8917\n",
      "Epoch 16/50\n",
      "5/5 [==============================] - 0s 2ms/step - loss: 0.0305 - accuracy: 0.9045\n",
      "Epoch 17/50\n",
      "5/5 [==============================] - 0s 3ms/step - loss: 0.0260 - accuracy: 0.9299\n",
      "Epoch 18/50\n",
      "5/5 [==============================] - 0s 3ms/step - loss: 0.0212 - accuracy: 0.9490\n",
      "Epoch 19/50\n",
      "5/5 [==============================] - 0s 3ms/step - loss: 0.0188 - accuracy: 0.9618\n",
      "Epoch 20/50\n",
      "5/5 [==============================] - 0s 3ms/step - loss: 0.0165 - accuracy: 0.9618\n",
      "Epoch 21/50\n",
      "5/5 [==============================] - 0s 3ms/step - loss: 0.0153 - accuracy: 0.9682\n",
      "Epoch 22/50\n",
      "5/5 [==============================] - 0s 2ms/step - loss: 0.0129 - accuracy: 0.9809\n",
      "Epoch 23/50\n",
      "5/5 [==============================] - 0s 3ms/step - loss: 0.0110 - accuracy: 0.9809\n",
      "Epoch 24/50\n",
      "5/5 [==============================] - 0s 3ms/step - loss: 0.0102 - accuracy: 0.9809\n",
      "Epoch 25/50\n",
      "5/5 [==============================] - 0s 3ms/step - loss: 0.0089 - accuracy: 0.9809\n",
      "Epoch 26/50\n",
      "5/5 [==============================] - 0s 2ms/step - loss: 0.0076 - accuracy: 0.9809\n",
      "Epoch 27/50\n",
      "5/5 [==============================] - 0s 2ms/step - loss: 0.0068 - accuracy: 0.9809\n",
      "Epoch 28/50\n",
      "5/5 [==============================] - 0s 3ms/step - loss: 0.0066 - accuracy: 0.9809\n",
      "Epoch 29/50\n",
      "5/5 [==============================] - 0s 3ms/step - loss: 0.0065 - accuracy: 0.9809\n",
      "Epoch 30/50\n",
      "5/5 [==============================] - 0s 3ms/step - loss: 0.0054 - accuracy: 0.9873\n",
      "Epoch 31/50\n",
      "5/5 [==============================] - 0s 3ms/step - loss: 0.0057 - accuracy: 0.9873\n",
      "Epoch 32/50\n",
      "5/5 [==============================] - 0s 3ms/step - loss: 0.0050 - accuracy: 0.9873\n",
      "Epoch 33/50\n",
      "5/5 [==============================] - 0s 3ms/step - loss: 0.0046 - accuracy: 0.9873\n",
      "Epoch 34/50\n",
      "5/5 [==============================] - 0s 3ms/step - loss: 0.0040 - accuracy: 0.9873\n",
      "Epoch 35/50\n",
      "5/5 [==============================] - 0s 3ms/step - loss: 0.0039 - accuracy: 0.9873\n",
      "Epoch 36/50\n",
      "5/5 [==============================] - 0s 3ms/step - loss: 0.0036 - accuracy: 0.9873\n",
      "Epoch 37/50\n",
      "5/5 [==============================] - 0s 3ms/step - loss: 0.0035 - accuracy: 0.9873\n",
      "Epoch 38/50\n",
      "5/5 [==============================] - 0s 3ms/step - loss: 0.0036 - accuracy: 0.9873\n",
      "Epoch 39/50\n",
      "5/5 [==============================] - 0s 3ms/step - loss: 0.0035 - accuracy: 0.9873\n",
      "Epoch 40/50\n",
      "5/5 [==============================] - 0s 3ms/step - loss: 0.0027 - accuracy: 0.9936\n",
      "Epoch 41/50\n",
      "5/5 [==============================] - 0s 3ms/step - loss: 0.0023 - accuracy: 0.9936\n",
      "Epoch 42/50\n",
      "5/5 [==============================] - 0s 3ms/step - loss: 0.0022 - accuracy: 0.9936\n",
      "Epoch 43/50\n",
      "5/5 [==============================] - 0s 3ms/step - loss: 0.0025 - accuracy: 0.9936\n",
      "Epoch 44/50\n",
      "5/5 [==============================] - 0s 3ms/step - loss: 0.0020 - accuracy: 0.9936\n",
      "Epoch 45/50\n",
      "5/5 [==============================] - 0s 2ms/step - loss: 0.0021 - accuracy: 0.9936\n",
      "Epoch 46/50\n",
      "5/5 [==============================] - 0s 3ms/step - loss: 0.0022 - accuracy: 0.9936\n",
      "Epoch 47/50\n",
      "5/5 [==============================] - 0s 3ms/step - loss: 0.0020 - accuracy: 0.9936\n",
      "Epoch 48/50\n",
      "5/5 [==============================] - 0s 3ms/step - loss: 0.0020 - accuracy: 0.9936\n",
      "Epoch 49/50\n",
      "5/5 [==============================] - 0s 3ms/step - loss: 0.0020 - accuracy: 0.9936\n",
      "Epoch 50/50\n",
      "5/5 [==============================] - 0s 3ms/step - loss: 0.0019 - accuracy: 0.9936\n"
     ]
    }
   ],
   "source": [
    "active_func = 'softmax'\n",
    "loss_func = 'MeanSquaredError'\n",
    "#loss_func = 'categorical_crossentropy'\n",
    "drop_out = 0.2\n",
    "trained_model_rnn = RNN_model(loss_func,active_func,drop_out)\n",
    "accuracy_rnn,pred_classlabels = get_accuracy(trained_model_rnn,embedding_matrix_test,Y_test)"
   ]
  },
  {
   "cell_type": "code",
   "execution_count": 38,
   "metadata": {},
   "outputs": [
    {
     "name": "stdout",
     "output_type": "stream",
     "text": [
      "Accuracy - 60.29411764705882%\n"
     ]
    }
   ],
   "source": [
    "print('Accuracy - ' + str(accuracy_rnn*100) + '%')"
   ]
  },
  {
   "cell_type": "markdown",
   "metadata": {},
   "source": [
    "### Displaying Prediction vs Actual - for wrongly classified labels"
   ]
  },
  {
   "cell_type": "code",
   "execution_count": 41,
   "metadata": {
    "scrolled": true
   },
   "outputs": [
    {
     "name": "stdout",
     "output_type": "stream",
     "text": [
      "5\n",
      "['he', 'is', 'a', 'good', 'friend'] 😄 ❤️\n",
      "7\n",
      "['We', 'had', 'such', 'a', 'lovely', 'dinner', 'tonight'] 🍴 ❤️\n",
      "12\n",
      "['This', 'girl', 'is', 'messing', 'with', 'me'] 😄 😠\n",
      "13\n",
      "['are', 'you', 'serious', 'ha', 'ha'] 😞 😄\n",
      "17\n",
      "['Congratulation', 'for', 'having', 'a', 'baby'] 😄 ❤️\n",
      "18\n",
      "['stop', 'messing', 'around'] 😄 😠\n",
      "23\n",
      "['she', 'is', 'a', 'bully'] ❤️ 😞\n",
      "24\n",
      "['Why', 'are', 'you', 'feeling', 'bad'] 🍴 😞\n",
      "26\n",
      "['I', 'worked', 'during', 'my', 'birthday'] 😄 😞\n",
      "28\n",
      "['enjoy', 'your', 'break'] ⚾ 😄\n",
      "29\n",
      "['valentine', 'day', 'is', 'near'] 🍴 ❤️\n",
      "32\n",
      "['My', 'life', 'is', 'so', 'boring'] ❤️ 😞\n",
      "35\n",
      "['he', 'can', 'pitch', 'really', 'well'] 😠 ⚾\n",
      "39\n",
      "['I', 'like', 'to', 'laugh'] ❤️ 😄\n",
      "42\n",
      "['i', 'miss', 'her'] ❤️ 😞\n",
      "45\n",
      "['I', 'love', 'to', 'the', 'stars', 'and', 'back'] ⚾ ❤️\n",
      "46\n",
      "['What', 'you', 'did', 'was', 'awesome'] ❤️ 😄\n",
      "48\n",
      "['I', 'want', 'to', 'joke'] ❤️ 😄\n",
      "49\n",
      "['go', 'away'] 😞 😠\n",
      "50\n",
      "['yesterday', 'we', 'lost', 'the', 'match'] ⚾ 😞\n",
      "51\n",
      "['family', 'is', 'all', 'I', 'have'] 😞 ❤️\n",
      "52\n",
      "['you', 'are', 'failing', 'this', 'exercise'] ❤️ 😞\n",
      "56\n",
      "['I', 'can', 'make', 'better', 'angry', 'face', 'than', 'you'] 😞 😠\n",
      "57\n",
      "['Dont', 'annoy', 'her'] ❤️ 😠\n",
      "59\n",
      "['Do', 'not', 'do', 'this'] 😄 😠\n",
      "63\n",
      "['She', 'is', 'the', 'love', 'of', 'my', 'life'] 😄 ❤️\n",
      "65\n",
      "['disappointing', 'performance'] ⚾ 😞\n"
     ]
    }
   ],
   "source": [
    "# Printing the sentences with the predicted and labled emoji\n",
    "for ix in range(embedding_matrix_test.shape[0]):\n",
    "    \n",
    "    if pred_classlabels[ix] != Y_test[ix]:\n",
    "        print(ix)\n",
    "        print (test_data[0][ix],end=\" \")\n",
    "        print (emoji.emojize(dict_emojis[pred_classlabels[ix]], use_aliases=True),end=\" \")\n",
    "        print (emoji.emojize(dict_emojis[Y_test[ix]], use_aliases=True))"
   ]
  },
  {
   "cell_type": "code",
   "execution_count": 42,
   "metadata": {},
   "outputs": [],
   "source": [
    "# Predicting for our random sentence\n",
    "x = ['i','am','mad','at','you']\n",
    "\n",
    "x_ = np.zeros((1,10,50))\n",
    "\n",
    "for ix in range(len(x)):\n",
    "    x_[0][ix] = embeddings_index[x[ix].lower()]"
   ]
  },
  {
   "cell_type": "code",
   "execution_count": 45,
   "metadata": {},
   "outputs": [
    {
     "name": "stdout",
     "output_type": "stream",
     "text": [
      "😠\n"
     ]
    }
   ],
   "source": [
    "pred_random=trained_model_rnn.predict(x_)\n",
    "classes_random=np.argmax(pred_random)\n",
    "print (emoji.emojize(dict_emojis[classes_random], use_aliases=True))"
   ]
  },
  {
   "cell_type": "markdown",
   "metadata": {},
   "source": [
    "##  - Using LSTM"
   ]
  },
  {
   "cell_type": "code",
   "execution_count": 46,
   "metadata": {},
   "outputs": [],
   "source": [
    "def LTSM_model(loss_function,activation_func,drop_out_rate):\n",
    "    \n",
    "    print(\"------------------------------------------------------------------------------------------------\")\n",
    "    print('LTSM Model for '+activation_func+' with loss function '+loss_function+' and drop out :- '+str(drop_out_rate))\n",
    "    # A simple LSTM network\n",
    "    model = Sequential()\n",
    "    model.add(LSTM(128, input_shape=(10,50), return_sequences=True))\n",
    "    model.add(Dropout(drop_out_rate))\n",
    "    model.add(LSTM(128, return_sequences=False))\n",
    "    model.add(Dense(6))\n",
    "    model.add(Activation(activation_func))\n",
    "\n",
    "    model.summary()\n",
    "    \n",
    "    # Setting Loss ,Optimiser for model\n",
    "    model.compile(loss=loss_function, optimizer='adam', metrics=['accuracy'])\n",
    "    \n",
    "    #training the model\n",
    "    hist = model.fit(embedding_matrix_train,Y_train,epochs = 50, batch_size=32,shuffle=True)\n",
    "    print(\"-------------------------------------------------------------------------------------------------\")\n",
    "    print(\"-------------------------------------------------------------------------------------------------\")\n",
    "    return model"
   ]
  },
  {
   "cell_type": "code",
   "execution_count": 47,
   "metadata": {},
   "outputs": [],
   "source": [
    "def get_accuracy(model,embedding_matrix_test,Y_test):\n",
    "    # Prediction of trained model\n",
    "    pred_lstm=model.predict(embedding_matrix_test)\n",
    "    classes_lstm=np.argmax(pred_lstm,axis=1)\n",
    "    # Calculating accuracy / score  of the model\n",
    "    return float(sum(classes_lstm==Y_test))/embedding_matrix_test.shape[0],classes_lstm"
   ]
  },
  {
   "cell_type": "code",
   "execution_count": 48,
   "metadata": {},
   "outputs": [
    {
     "name": "stdout",
     "output_type": "stream",
     "text": [
      "------------------------------------------------------------------------------------------------\n",
      "LTSM Model for softmax with loss function categorical_crossentropy and drop out :- 0.2\n",
      "Model: \"sequential_7\"\n",
      "_________________________________________________________________\n",
      " Layer (type)                Output Shape              Param #   \n",
      "=================================================================\n",
      " lstm (LSTM)                 (None, 10, 128)           91648     \n",
      "                                                                 \n",
      " dropout_7 (Dropout)         (None, 10, 128)           0         \n",
      "                                                                 \n",
      " lstm_1 (LSTM)               (None, 128)               131584    \n",
      "                                                                 \n",
      " dense_7 (Dense)             (None, 6)                 774       \n",
      "                                                                 \n",
      " activation_7 (Activation)   (None, 6)                 0         \n",
      "                                                                 \n",
      "=================================================================\n",
      "Total params: 224,006\n",
      "Trainable params: 224,006\n",
      "Non-trainable params: 0\n",
      "_________________________________________________________________\n",
      "Epoch 1/50\n",
      "5/5 [==============================] - 2s 12ms/step - loss: 1.7433 - accuracy: 0.2739\n",
      "Epoch 2/50\n",
      "5/5 [==============================] - 0s 12ms/step - loss: 1.6454 - accuracy: 0.2548\n",
      "Epoch 3/50\n",
      "5/5 [==============================] - 0s 11ms/step - loss: 1.5435 - accuracy: 0.4395\n",
      "Epoch 4/50\n",
      "5/5 [==============================] - 0s 11ms/step - loss: 1.3545 - accuracy: 0.6178\n",
      "Epoch 5/50\n",
      "5/5 [==============================] - 0s 11ms/step - loss: 1.1697 - accuracy: 0.5605\n",
      "Epoch 6/50\n",
      "5/5 [==============================] - 0s 11ms/step - loss: 1.0108 - accuracy: 0.6178\n",
      "Epoch 7/50\n",
      "5/5 [==============================] - 0s 11ms/step - loss: 0.8912 - accuracy: 0.6815\n",
      "Epoch 8/50\n",
      "5/5 [==============================] - 0s 12ms/step - loss: 0.8260 - accuracy: 0.6943\n",
      "Epoch 9/50\n",
      "5/5 [==============================] - 0s 11ms/step - loss: 0.7089 - accuracy: 0.7580\n",
      "Epoch 10/50\n",
      "5/5 [==============================] - 0s 12ms/step - loss: 0.6095 - accuracy: 0.7834\n",
      "Epoch 11/50\n",
      "5/5 [==============================] - 0s 11ms/step - loss: 0.5550 - accuracy: 0.8153\n",
      "Epoch 12/50\n",
      "5/5 [==============================] - 0s 11ms/step - loss: 0.5434 - accuracy: 0.7962\n",
      "Epoch 13/50\n",
      "5/5 [==============================] - 0s 12ms/step - loss: 0.4437 - accuracy: 0.8280\n",
      "Epoch 14/50\n",
      "5/5 [==============================] - 0s 11ms/step - loss: 0.4290 - accuracy: 0.8280\n",
      "Epoch 15/50\n",
      "5/5 [==============================] - 0s 12ms/step - loss: 0.4156 - accuracy: 0.8599\n",
      "Epoch 16/50\n",
      "5/5 [==============================] - 0s 12ms/step - loss: 0.4133 - accuracy: 0.8535\n",
      "Epoch 17/50\n",
      "5/5 [==============================] - 0s 12ms/step - loss: 0.4193 - accuracy: 0.8471\n",
      "Epoch 18/50\n",
      "5/5 [==============================] - 0s 11ms/step - loss: 0.3306 - accuracy: 0.8726\n",
      "Epoch 19/50\n",
      "5/5 [==============================] - 0s 11ms/step - loss: 0.2961 - accuracy: 0.9108\n",
      "Epoch 20/50\n",
      "5/5 [==============================] - 0s 12ms/step - loss: 0.2330 - accuracy: 0.9299\n",
      "Epoch 21/50\n",
      "5/5 [==============================] - 0s 12ms/step - loss: 0.2312 - accuracy: 0.9108\n",
      "Epoch 22/50\n",
      "5/5 [==============================] - 0s 12ms/step - loss: 0.2033 - accuracy: 0.9363\n",
      "Epoch 23/50\n",
      "5/5 [==============================] - 0s 11ms/step - loss: 0.1761 - accuracy: 0.9490\n",
      "Epoch 24/50\n",
      "5/5 [==============================] - 0s 12ms/step - loss: 0.1515 - accuracy: 0.9490\n",
      "Epoch 25/50\n",
      "5/5 [==============================] - 0s 11ms/step - loss: 0.2486 - accuracy: 0.9172\n",
      "Epoch 26/50\n",
      "5/5 [==============================] - 0s 12ms/step - loss: 0.2739 - accuracy: 0.8917\n",
      "Epoch 27/50\n",
      "5/5 [==============================] - 0s 11ms/step - loss: 0.1712 - accuracy: 0.9427\n",
      "Epoch 28/50\n",
      "5/5 [==============================] - 0s 11ms/step - loss: 0.1271 - accuracy: 0.9682\n",
      "Epoch 29/50\n",
      "5/5 [==============================] - 0s 11ms/step - loss: 0.1145 - accuracy: 0.9618\n",
      "Epoch 30/50\n",
      "5/5 [==============================] - 0s 11ms/step - loss: 0.1124 - accuracy: 0.9618\n",
      "Epoch 31/50\n",
      "5/5 [==============================] - 0s 12ms/step - loss: 0.1170 - accuracy: 0.9618\n",
      "Epoch 32/50\n",
      "5/5 [==============================] - 0s 11ms/step - loss: 0.0744 - accuracy: 0.9809\n",
      "Epoch 33/50\n",
      "5/5 [==============================] - 0s 12ms/step - loss: 0.0451 - accuracy: 0.9936\n",
      "Epoch 34/50\n",
      "5/5 [==============================] - 0s 11ms/step - loss: 0.0471 - accuracy: 0.9936\n",
      "Epoch 35/50\n",
      "5/5 [==============================] - 0s 11ms/step - loss: 0.0295 - accuracy: 1.0000\n",
      "Epoch 36/50\n",
      "5/5 [==============================] - 0s 12ms/step - loss: 0.0420 - accuracy: 0.9873\n",
      "Epoch 37/50\n",
      "5/5 [==============================] - 0s 11ms/step - loss: 0.0221 - accuracy: 1.0000\n",
      "Epoch 38/50\n",
      "5/5 [==============================] - 0s 11ms/step - loss: 0.0196 - accuracy: 1.0000\n",
      "Epoch 39/50\n",
      "5/5 [==============================] - 0s 11ms/step - loss: 0.0200 - accuracy: 1.0000\n",
      "Epoch 40/50\n",
      "5/5 [==============================] - 0s 11ms/step - loss: 0.0448 - accuracy: 0.9809\n",
      "Epoch 41/50\n",
      "5/5 [==============================] - 0s 11ms/step - loss: 0.0261 - accuracy: 0.9873\n",
      "Epoch 42/50\n",
      "5/5 [==============================] - 0s 12ms/step - loss: 0.0142 - accuracy: 1.0000\n",
      "Epoch 43/50\n",
      "5/5 [==============================] - 0s 12ms/step - loss: 0.0142 - accuracy: 0.9936\n",
      "Epoch 44/50\n",
      "5/5 [==============================] - 0s 12ms/step - loss: 0.0098 - accuracy: 1.0000\n",
      "Epoch 45/50\n",
      "5/5 [==============================] - 0s 12ms/step - loss: 0.0086 - accuracy: 1.0000\n",
      "Epoch 46/50\n",
      "5/5 [==============================] - 0s 12ms/step - loss: 0.0056 - accuracy: 1.0000\n",
      "Epoch 47/50\n",
      "5/5 [==============================] - 0s 11ms/step - loss: 0.0048 - accuracy: 1.0000\n",
      "Epoch 48/50\n",
      "5/5 [==============================] - 0s 11ms/step - loss: 0.0036 - accuracy: 1.0000\n",
      "Epoch 49/50\n",
      "5/5 [==============================] - 0s 11ms/step - loss: 0.0037 - accuracy: 1.0000\n",
      "Epoch 50/50\n",
      "5/5 [==============================] - 0s 11ms/step - loss: 0.0031 - accuracy: 1.0000\n",
      "-------------------------------------------------------------------------------------------------\n",
      "-------------------------------------------------------------------------------------------------\n"
     ]
    }
   ],
   "source": [
    "# Using Sigmoid/softmax as an activation function for LTSM with a couple o loss functions and drop-out rates\n",
    "active_func = 'softmax'\n",
    "#loss_func = 'MeanSquaredError'\n",
    "loss_func = 'categorical_crossentropy'\n",
    "drop_out = 0.2\n",
    "trained_model = LTSM_model(loss_func,active_func,drop_out)\n",
    "accuracy,pred_classlabels = get_accuracy(trained_model,embedding_matrix_test,Y_test)"
   ]
  },
  {
   "cell_type": "markdown",
   "metadata": {},
   "source": [
    "### ACCURACY"
   ]
  },
  {
   "cell_type": "code",
   "execution_count": 49,
   "metadata": {},
   "outputs": [
    {
     "name": "stdout",
     "output_type": "stream",
     "text": [
      "Accuracy - 58.82352941176471%\n"
     ]
    }
   ],
   "source": [
    "print('Accuracy - ' + str(accuracy*100) + '%')"
   ]
  },
  {
   "cell_type": "code",
   "execution_count": 51,
   "metadata": {
    "scrolled": true
   },
   "outputs": [
    {
     "name": "stdout",
     "output_type": "stream",
     "text": [
      "2\n",
      "['he', 'got', 'a', 'raise'] 😞 😄\n",
      "3\n",
      "['she', 'got', 'me', 'a', 'present'] 😄 ❤️\n",
      "5\n",
      "['he', 'is', 'a', 'good', 'friend'] 😄 ❤️\n",
      "7\n",
      "['We', 'had', 'such', 'a', 'lovely', 'dinner', 'tonight'] 😄 ❤️\n",
      "11\n",
      "['work', 'is', 'hard'] 😄 😞\n",
      "12\n",
      "['This', 'girl', 'is', 'messing', 'with', 'me'] ❤️ 😠\n",
      "13\n",
      "['are', 'you', 'serious', 'ha', 'ha'] 😞 😄\n",
      "16\n",
      "['work', 'is', 'horrible'] 😄 😞\n",
      "17\n",
      "['Congratulation', 'for', 'having', 'a', 'baby'] 😄 ❤️\n",
      "21\n",
      "['you', 'brighten', 'my', 'day'] ❤️ 😄\n",
      "23\n",
      "['she', 'is', 'a', 'bully'] ❤️ 😞\n",
      "26\n",
      "['I', 'worked', 'during', 'my', 'birthday'] 😄 😞\n",
      "28\n",
      "['enjoy', 'your', 'break'] ⚾ 😄\n",
      "29\n",
      "['valentine', 'day', 'is', 'near'] 😄 ❤️\n",
      "32\n",
      "['My', 'life', 'is', 'so', 'boring'] ❤️ 😞\n",
      "40\n",
      "['I', 'will', 'go', 'dance'] ⚾ 😄\n",
      "42\n",
      "['i', 'miss', 'her'] ❤️ 😞\n",
      "48\n",
      "['I', 'want', 'to', 'joke'] 😞 😄\n",
      "49\n",
      "['go', 'away'] ⚾ 😠\n",
      "50\n",
      "['yesterday', 'we', 'lost', 'the', 'match'] ⚾ 😞\n",
      "51\n",
      "['family', 'is', 'all', 'I', 'have'] 🍴 ❤️\n",
      "54\n",
      "['You', 'totally', 'deserve', 'this', 'prize'] 😞 😄\n",
      "55\n",
      "['I', 'did', 'not', 'have', 'breakfast'] 🍴 😞\n",
      "57\n",
      "['Dont', 'annoy', 'her'] 😞 😠\n",
      "58\n",
      "['This', 'will', 'make', 'me', 'angry'] 😄 😠\n",
      "59\n",
      "['Do', 'not', 'do', 'this'] 🍴 😠\n",
      "64\n",
      "['I', 'am', 'disappointed', 'at', 'you'] 😄 😞\n",
      "65\n",
      "['disappointing', 'performance'] 😄 😞\n"
     ]
    }
   ],
   "source": [
    "# Printing the sentences with the predicted and the labelled emoji\n",
    "for ix in range(embedding_matrix_test.shape[0]):\n",
    "    \n",
    "    if pred_classlabels[ix] != Y_test[ix]:\n",
    "        print(ix)\n",
    "        print (test_data[0][ix],end=\" \")\n",
    "        print (emoji.emojize(dict_emojis[pred_classlabels[ix]], use_aliases=True),end=\" \")\n",
    "        print (emoji.emojize(dict_emojis[Y_test[ix]], use_aliases=True))"
   ]
  },
  {
   "cell_type": "code",
   "execution_count": 52,
   "metadata": {},
   "outputs": [],
   "source": [
    "# Predicting for our random sentence\n",
    "x = ['i','am','mad','at','you']\n",
    "\n",
    "x_ = np.zeros((1,10,50))\n",
    "\n",
    "for ix in range(len(x)):\n",
    "    x_[0][ix] = embeddings_index[x[ix].lower()]"
   ]
  },
  {
   "cell_type": "code",
   "execution_count": 53,
   "metadata": {},
   "outputs": [
    {
     "name": "stdout",
     "output_type": "stream",
     "text": [
      "😄\n"
     ]
    }
   ],
   "source": [
    "pred_random=trained_model.predict(x_)\n",
    "classes_random=np.argmax(pred_random)\n",
    "print (emoji.emojize(dict_emojis[classes_random], use_aliases=True))"
   ]
  },
  {
   "cell_type": "code",
   "execution_count": 73,
   "metadata": {},
   "outputs": [
    {
     "data": {
      "text/plain": [
       "array([[1.5977007e-01, 2.1234270e-04, 7.5378764e-01, 1.0004493e-02,\n",
       "        3.7636608e-02, 3.8588807e-02]], dtype=float32)"
      ]
     },
     "execution_count": 73,
     "metadata": {},
     "output_type": "execute_result"
    }
   ],
   "source": [
    "pred_random"
   ]
  },
  {
   "cell_type": "code",
   "execution_count": 54,
   "metadata": {},
   "outputs": [
    {
     "data": {
      "text/plain": [
       "<sklearn.metrics._plot.confusion_matrix.ConfusionMatrixDisplay at 0x2b00f5c79a0>"
      ]
     },
     "execution_count": 54,
     "metadata": {},
     "output_type": "execute_result"
    },
    {
     "data": {
      "image/png": "[encoded data removed]",
      "text/plain": [
       "<Figure size 432x288 with 2 Axes>"
      ]
     },
     "metadata": {
      "needs_background": "light"
     },
     "output_type": "display_data"
    }
   ],
   "source": [
    "from sklearn.metrics import confusion_matrix,ConfusionMatrixDisplay\n",
    "cm = confusion_matrix(Y_test, pred_classlabels)\n",
    "cm_obj = ConfusionMatrixDisplay(cm)\n",
    "cm_obj.plot()"
   ]
  },
  {
   "cell_type": "code",
   "execution_count": 55,
   "metadata": {},
   "outputs": [
    {
     "name": "stdout",
     "output_type": "stream",
     "text": [
      "Precision is - 0.5882352941176471\n",
      "Recall is - 0.5882352941176471\n"
     ]
    }
   ],
   "source": [
    "from sklearn.metrics import precision_score\n",
    "from sklearn.metrics import f1_score\n",
    "from sklearn.metrics import recall_score\n",
    "\n",
    "print('Precision is - ' +str(precision_score(Y_test, pred_classlabels,average = 'micro' )))\n",
    "\n",
    "\n",
    "print('Recall is - ' + str(recall_score(Y_test, pred_classlabels,average = 'micro' )))"
   ]
  }
 ],
 "metadata": {
  "kernelspec": {
   "display_name": "Python 3 (ipykernel)",
   "language": "python",
   "name": "python3"
  },
  "language_info": {
   "codemirror_mode": {
    "name": "ipython",
    "version": 3
   },
   "file_extension": ".py",
   "mimetype": "text/x-python",
   "name": "python",
   "nbconvert_exporter": "python",
   "pygments_lexer": "ipython3",
   "version": "3.9.7"
  }
 },
 "nbformat": 4,
 "nbformat_minor": 2
}
